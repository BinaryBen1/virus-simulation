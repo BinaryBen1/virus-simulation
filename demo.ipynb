{
 "cells": [
  {
   "cell_type": "code",
   "execution_count": 1,
   "metadata": {},
   "outputs": [
    {
     "name": "stdout",
     "output_type": "stream",
     "text": [
      "Requirement already satisfied: scikit-image in /home/till/anaconda3/lib/python3.9/site-packages (0.19.2)\n",
      "Requirement already satisfied: tifffile>=2019.7.26 in /home/till/anaconda3/lib/python3.9/site-packages (from scikit-image) (2021.7.2)\n",
      "Requirement already satisfied: numpy>=1.17.0 in /home/till/anaconda3/lib/python3.9/site-packages (from scikit-image) (1.21.5)\n",
      "Requirement already satisfied: pillow!=7.1.0,!=7.1.1,!=8.3.0,>=6.1.0 in /home/till/anaconda3/lib/python3.9/site-packages (from scikit-image) (9.0.1)\n",
      "Requirement already satisfied: imageio>=2.4.1 in /home/till/anaconda3/lib/python3.9/site-packages (from scikit-image) (2.9.0)\n",
      "Requirement already satisfied: scipy>=1.4.1 in /home/till/anaconda3/lib/python3.9/site-packages (from scikit-image) (1.7.3)\n",
      "Requirement already satisfied: networkx>=2.2 in /home/till/anaconda3/lib/python3.9/site-packages (from scikit-image) (2.7.1)\n",
      "Requirement already satisfied: PyWavelets>=1.1.1 in /home/till/anaconda3/lib/python3.9/site-packages (from scikit-image) (1.3.0)\n",
      "Requirement already satisfied: packaging>=20.0 in /home/till/anaconda3/lib/python3.9/site-packages (from scikit-image) (21.3)\n",
      "Requirement already satisfied: pyparsing!=3.0.5,>=2.0.2 in /home/till/anaconda3/lib/python3.9/site-packages (from packaging>=20.0->scikit-image) (3.0.4)\n",
      "Requirement already satisfied: pymunk in /home/till/anaconda3/lib/python3.9/site-packages (6.4.0)\n",
      "Requirement already satisfied: cffi>=1.15.0 in /home/till/anaconda3/lib/python3.9/site-packages (from pymunk) (1.15.0)\n",
      "Requirement already satisfied: pycparser in /home/till/anaconda3/lib/python3.9/site-packages (from cffi>=1.15.0->pymunk) (2.21)\n",
      "Requirement already satisfied: numpy in /home/till/anaconda3/lib/python3.9/site-packages (1.21.5)\n",
      "Requirement already satisfied: pygame in /home/till/anaconda3/lib/python3.9/site-packages (2.1.2)\n",
      "Requirement already satisfied: matplotlib in /home/till/anaconda3/lib/python3.9/site-packages (3.5.1)\n",
      "Requirement already satisfied: numpy>=1.17 in /home/till/anaconda3/lib/python3.9/site-packages (from matplotlib) (1.21.5)\n",
      "Requirement already satisfied: fonttools>=4.22.0 in /home/till/anaconda3/lib/python3.9/site-packages (from matplotlib) (4.25.0)\n",
      "Requirement already satisfied: kiwisolver>=1.0.1 in /home/till/anaconda3/lib/python3.9/site-packages (from matplotlib) (1.3.2)\n",
      "Requirement already satisfied: pillow>=6.2.0 in /home/till/anaconda3/lib/python3.9/site-packages (from matplotlib) (9.0.1)\n",
      "Requirement already satisfied: python-dateutil>=2.7 in /home/till/anaconda3/lib/python3.9/site-packages (from matplotlib) (2.8.2)\n",
      "Requirement already satisfied: cycler>=0.10 in /home/till/anaconda3/lib/python3.9/site-packages (from matplotlib) (0.11.0)\n",
      "Requirement already satisfied: packaging>=20.0 in /home/till/anaconda3/lib/python3.9/site-packages (from matplotlib) (21.3)\n",
      "Requirement already satisfied: pyparsing>=2.2.1 in /home/till/anaconda3/lib/python3.9/site-packages (from matplotlib) (3.0.4)\n",
      "Requirement already satisfied: six>=1.5 in /home/till/anaconda3/lib/python3.9/site-packages (from python-dateutil>=2.7->matplotlib) (1.16.0)\n"
     ]
    }
   ],
   "source": [
    "# install all dependencies\n",
    "\n",
    "!pip install scikit-image # for skimage.measure\n",
    "!pip install pymunk # for basic particle simulation utility (collision detection, update the particle state based on position and velocity)\n",
    "!pip install numpy # for arrays and useful functions\n",
    "!pip install pygame # for showing the simulation visually\n",
    "!pip install matplotlib # for plotting"
   ]
  },
  {
   "cell_type": "code",
   "execution_count": 2,
   "metadata": {},
   "outputs": [
    {
     "name": "stdout",
     "output_type": "stream",
     "text": [
      "pygame 2.1.2 (SDL 2.0.16, Python 3.9.12)\n",
      "Hello from the pygame community. https://www.pygame.org/contribute.html\n"
     ]
    }
   ],
   "source": [
    "import pygame as pg\n",
    "import pymunk # simulates in C -> fast \n",
    "import numpy as np\n",
    "import skimage.measure as measure # for 2d max pooling (pip install scikit-image)\n",
    "import matplotlib.pyplot as plt # for plotting\n",
    "import seaborn as sns\n",
    "import random\n",
    "import os\n",
    "\n",
    "from objects import Person, Wall, Train\n",
    "from simulator import CovidSim\n",
    "from pathfinding import Node, Queue, Pathfinder"
   ]
  },
  {
   "cell_type": "code",
   "execution_count": 3,
   "metadata": {},
   "outputs": [
    {
     "name": "stdout",
     "output_type": "stream",
     "text": [
      "world_array shape: (800, 800)\n",
      "using precomputed heatmaps with shape (3, 800, 800)\n"
     ]
    }
   ],
   "source": [
    "# setup the simulator\n",
    "sim = CovidSim(\n",
    "    n_people=500, \n",
    "    infection_prob=0.3, \n",
    "    draw_dots_for_debugging=False,\n",
    "    FPS=60)\n",
    "\n",
    "# TODO: put list of real target nodes into pf by design\n",
    "pf = Pathfinder(sim, use_precomputed_heatmaps=True)"
   ]
  },
  {
   "cell_type": "code",
   "execution_count": 4,
   "metadata": {},
   "outputs": [
    {
     "name": "stdout",
     "output_type": "stream",
     "text": [
      "starting run... [0/3]\n",
      "starting run... [1/3]\n",
      "starting run... [2/3]\n"
     ]
    }
   ],
   "source": [
    "# hyperparameters\n",
    "max_timestep = 2000\n",
    "start_seed = 0\n",
    "n_runs = 3\n",
    "n_variance_bars = 5\n",
    "\n",
    "for run_index in range(n_runs):\n",
    "    print(f'starting run... [{run_index+1}/{n_runs}]')\n",
    "    healthy_counts, infected_counts = sim.run(seed=start_seed+run_index, speedup_factor=1, max_timestep=max_timestep, return_data=True)\n",
    "\n",
    "    if run_index == 0:\n",
    "        # create lists with datapoints from multiple runs\n",
    "        healthy_counts_data = [[] for i in range(len(healthy_counts))]\n",
    "        infected_counts_data = [[] for i in range(len(infected_counts))]\n",
    "\n",
    "    for i in range(len(healthy_counts)):\n",
    "        healthy_counts_data[i].append(healthy_counts[i]) # healthy_counts[i * int(len(healthy_counts)/n_variance_bars)]\n",
    "        infected_counts_data[i].append(infected_counts[i])\n",
    "\n",
    "timesteps = [t for t in range(0, len(healthy_counts))]\n",
    "healthy_counts_avg = [sum(datapoints)/len(datapoints) for datapoints in healthy_counts_data]\n",
    "infected_counts_avg = [sum(datapoints)/len(datapoints) for datapoints in infected_counts_data]"
   ]
  },
  {
   "cell_type": "code",
   "execution_count": 12,
   "metadata": {},
   "outputs": [
    {
     "data": {
      "image/png": "[encoded data removed]",
      "text/plain": [
       "<Figure size 576x432 with 1 Axes>"
      ]
     },
     "metadata": {
      "needs_background": "light"
     },
     "output_type": "display_data"
    }
   ],
   "source": [
    "plt.figure(figsize=(8,6))\n",
    "plt.stackplot(timesteps, healthy_counts_avg, infected_counts_avg, labels=['healthy', 'infected'], colors=['#39a6d4', '#e64c47']) # blue-grey-red\n",
    "\n",
    "# if we used multiple runs, draw bars to show the variance between the runs\n",
    "if n_runs > 1:\n",
    "    plt.boxplot([healthy_counts_data[i*int(len(timesteps)/n_variance_bars)] for i in range(n_variance_bars)], \n",
    "    positions=[i*int(len(timesteps)/n_variance_bars) for i in range(n_variance_bars)], widths=int(len(timesteps)/50))\n",
    "\n",
    "plt.title(f'COVID-Simulation (avg. of {n_runs} runs)')\n",
    "plt.legend(loc='lower left', ncol=1)\n",
    "plt.xlabel('Timestep')\n",
    "plt.ylabel('Count')\n",
    "plt.xlim(0, len(timesteps))\n",
    "plt.show()"
   ]
  },
  {
   "cell_type": "code",
   "execution_count": null,
   "metadata": {},
   "outputs": [],
   "source": []
  }
 ],
 "metadata": {
  "kernelspec": {
   "display_name": "Python 3.9.12 ('base')",
   "language": "python",
   "name": "python3"
  },
  "language_info": {
   "codemirror_mode": {
    "name": "ipython",
    "version": 3
   },
   "file_extension": ".py",
   "mimetype": "text/x-python",
   "name": "python",
   "nbconvert_exporter": "python",
   "pygments_lexer": "ipython3",
   "version": "3.9.12"
  },
  "orig_nbformat": 4,
  "vscode": {
   "interpreter": {
    "hash": "26f0d9251210d1296cca221dac5c0a6966a33ae026dc2b31e5da38a20392326b"
   }
  }
 },
 "nbformat": 4,
 "nbformat_minor": 2
}
