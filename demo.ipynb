{
 "cells": [
  {
   "cell_type": "code",
   "execution_count": 1,
   "metadata": {},
   "outputs": [],
   "source": [
    "# install all dependencies\n",
    "\n",
    "#!pip install scikit-image # for skimage.measure\n",
    "#!pip install pymunk # for basic particle simulation utility (collision detection, update the particle state based on position and velocity)\n",
    "#!pip install numpy # for arrays and useful functions\n",
    "#!pip install pygame # for showing the simulation visually\n",
    "#!pip install matplotlib # for plotting"
   ]
  },
  {
   "cell_type": "code",
   "execution_count": 2,
   "metadata": {},
   "outputs": [
    {
     "name": "stdout",
     "output_type": "stream",
     "text": [
      "pygame 2.1.0 (SDL 2.0.16, Python 3.10.4)\n",
      "Hello from the pygame community. https://www.pygame.org/contribute.html\n"
     ]
    }
   ],
   "source": [
    "import pygame as pg\n",
    "import pymunk # simulates in C -> fast \n",
    "import numpy as np\n",
    "import skimage.measure as measure # for 2d max pooling (pip install scikit-image)\n",
    "import matplotlib.pyplot as plt # for plotting\n",
    "import seaborn as sns\n",
    "import random\n",
    "import os\n",
    "\n",
    "from objects import Person, Wall, Train\n",
    "from simulator import CovidSim\n",
    "from pathfinding import Node, Queue, Pathfinder"
   ]
  },
  {
   "cell_type": "code",
   "execution_count": 3,
   "metadata": {},
   "outputs": [
    {
     "name": "stdout",
     "output_type": "stream",
     "text": [
      "world_array shape: (800, 800)\n",
      "using precomputed heatmaps with shape (30, 800, 800)\n"
     ]
    }
   ],
   "source": [
    "\"\"\" set up the simulator \"\"\"\n",
    "\n",
    "sim = CovidSim(\n",
    "    n_people=500, \n",
    "    infection_prob=0.2, \n",
    "    debug_mode=False,\n",
    "    FPS=60)\n",
    "\n",
    "# TODO: put list of real target nodes into pf by design\n",
    "pf = Pathfinder(sim, use_precomputed_heatmaps=True) # True"
   ]
  },
  {
   "cell_type": "code",
   "execution_count": 4,
   "metadata": {},
   "outputs": [
    {
     "name": "stdout",
     "output_type": "stream",
     "text": [
      "starting run... [1/3]\n",
      "starting run... [2/3]\n",
      "starting run... [3/3]\n"
     ]
    }
   ],
   "source": [
    "\"\"\" run the simulation \"\"\"\n",
    "\n",
    "# hyperparameters\n",
    "max_timestep = 1000000  # the max. number of time steps for one simulation run (e.g. 1000)\n",
    "start_seed = 0  # set a random seed in order to get reproducable results\n",
    "n_runs = 1  # how many times the simulation should be run (the data will be averaged over all runs)\n",
    "n_variance_bars = 5  # how many variance bars should be plotted\n",
    "speedup_factor = 1 # how fast the simulation moves (10 would be 10x faster than normal)\n",
    "\n",
    "for run_index in range(n_runs):\n",
    "    print(f'starting run... [{run_index+1}/{n_runs}]')\n",
    "    healthy_counts, infected_counts = sim.run(seed=start_seed+run_index, \n",
    "                                              speedup_factor=speedup_factor, \n",
    "                                              max_timestep=max_timestep, \n",
    "                                              return_data=True)\n",
    "\n",
    "    if run_index == 0:\n",
    "        # create lists with datapoints from multiple runs\n",
    "        healthy_counts_data = [[] for i in range(len(healthy_counts))]\n",
    "        infected_counts_data = [[] for i in range(len(infected_counts))]\n",
    "\n",
    "    for i in range(len(healthy_counts)):\n",
    "        healthy_counts_data[i].append(healthy_counts[i])\n",
    "        infected_counts_data[i].append(infected_counts[i])\n",
    "\n",
    "timesteps = [t for t in range(0, len(healthy_counts))]\n",
    "healthy_counts_avg = [sum(datapoints)/len(datapoints) for datapoints in healthy_counts_data]\n",
    "infected_counts_avg = [sum(datapoints)/len(datapoints) for datapoints in infected_counts_data]"
   ]
  },
  {
   "cell_type": "code",
   "execution_count": 5,
   "metadata": {},
   "outputs": [
    {
     "data": {
      "image/png": "[encoded data removed]",
      "text/plain": [
       "<Figure size 800x600 with 1 Axes>"
      ]
     },
     "metadata": {},
     "output_type": "display_data"
    }
   ],
   "source": [
    "\"\"\" create the infection plots \"\"\"\n",
    "\n",
    "plt.figure(figsize=(8,6))\n",
    "plt.stackplot(timesteps, healthy_counts_avg, infected_counts_avg, labels=['healthy', 'infected'], colors=['#39a6d4', '#e64c47']) # blue-grey-red\n",
    "\n",
    "# if we used multiple runs, draw bars to show the variance between the runs\n",
    "if n_runs > 1:\n",
    "    plt.boxplot([healthy_counts_data[i*int(len(timesteps)/n_variance_bars)] for i in range(n_variance_bars)], \n",
    "    positions=[i*int(len(timesteps)/n_variance_bars) for i in range(n_variance_bars)], widths=int(len(timesteps)/50))\n",
    "\n",
    "plt.title(f'COVID-Simulation (avg. of {n_runs} runs)')\n",
    "plt.legend(loc='lower left', ncol=1)\n",
    "plt.xlabel('Timestep')\n",
    "plt.ylabel('Count')\n",
    "plt.xlim(0, len(timesteps))\n",
    "plt.show()"
   ]
  },
  {
   "cell_type": "code",
   "execution_count": null,
   "metadata": {},
   "outputs": [],
   "source": []
  },
  {
   "cell_type": "code",
   "execution_count": null,
   "metadata": {},
   "outputs": [],
   "source": []
  }
 ],
 "metadata": {
  "kernelspec": {
   "display_name": "Python 3 (ipykernel)",
   "language": "python",
   "name": "python3"
  },
  "language_info": {
   "codemirror_mode": {
    "name": "ipython",
    "version": 3
   },
   "file_extension": ".py",
   "mimetype": "text/x-python",
   "name": "python",
   "nbconvert_exporter": "python",
   "pygments_lexer": "ipython3",
   "version": "3.10.4"
  },
  "vscode": {
   "interpreter": {
    "hash": "26f0d9251210d1296cca221dac5c0a6966a33ae026dc2b31e5da38a20392326b"
   }
  }
 },
 "nbformat": 4,
 "nbformat_minor": 2
}
