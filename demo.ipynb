{
 "cells": [
  {
   "cell_type": "code",
   "execution_count": 1,
   "metadata": {},
   "outputs": [
    {
     "name": "stdout",
     "output_type": "stream",
     "text": [
      "Requirement already satisfied: scikit-image in /home/till/anaconda3/lib/python3.9/site-packages (0.19.2)\n",
      "Requirement already satisfied: tifffile>=2019.7.26 in /home/till/anaconda3/lib/python3.9/site-packages (from scikit-image) (2021.7.2)\n",
      "Requirement already satisfied: pillow!=7.1.0,!=7.1.1,!=8.3.0,>=6.1.0 in /home/till/anaconda3/lib/python3.9/site-packages (from scikit-image) (9.0.1)\n",
      "Requirement already satisfied: numpy>=1.17.0 in /home/till/anaconda3/lib/python3.9/site-packages (from scikit-image) (1.21.5)\n",
      "Requirement already satisfied: imageio>=2.4.1 in /home/till/anaconda3/lib/python3.9/site-packages (from scikit-image) (2.9.0)\n",
      "Requirement already satisfied: PyWavelets>=1.1.1 in /home/till/anaconda3/lib/python3.9/site-packages (from scikit-image) (1.3.0)\n",
      "Requirement already satisfied: packaging>=20.0 in /home/till/anaconda3/lib/python3.9/site-packages (from scikit-image) (21.3)\n",
      "Requirement already satisfied: networkx>=2.2 in /home/till/anaconda3/lib/python3.9/site-packages (from scikit-image) (2.7.1)\n",
      "Requirement already satisfied: scipy>=1.4.1 in /home/till/anaconda3/lib/python3.9/site-packages (from scikit-image) (1.7.3)\n",
      "Requirement already satisfied: pyparsing!=3.0.5,>=2.0.2 in /home/till/anaconda3/lib/python3.9/site-packages (from packaging>=20.0->scikit-image) (3.0.4)\n",
      "Requirement already satisfied: pymunk in /home/till/anaconda3/lib/python3.9/site-packages (6.4.0)\n",
      "Requirement already satisfied: cffi>=1.15.0 in /home/till/anaconda3/lib/python3.9/site-packages (from pymunk) (1.15.0)\n",
      "Requirement already satisfied: pycparser in /home/till/anaconda3/lib/python3.9/site-packages (from cffi>=1.15.0->pymunk) (2.21)\n",
      "Requirement already satisfied: numpy in /home/till/anaconda3/lib/python3.9/site-packages (1.21.5)\n",
      "Requirement already satisfied: pygame in /home/till/anaconda3/lib/python3.9/site-packages (2.1.2)\n"
     ]
    }
   ],
   "source": [
    "# install all dependencies\n",
    "\n",
    "!pip install scikit-image # for skimage.measure\n",
    "!pip install pymunk # for basic particle simulation utility (collision detection, update the particle state based on position and velocity)\n",
    "!pip install numpy # for arrays and useful functions\n",
    "!pip install pygame # for showing the simulation visually"
   ]
  },
  {
   "cell_type": "code",
   "execution_count": 2,
   "metadata": {},
   "outputs": [
    {
     "name": "stdout",
     "output_type": "stream",
     "text": [
      "pygame 2.1.2 (SDL 2.0.16, Python 3.9.12)\n",
      "Hello from the pygame community. https://www.pygame.org/contribute.html\n"
     ]
    }
   ],
   "source": [
    "import pygame as pg\n",
    "import pymunk # simulates in C -> fast \n",
    "import numpy as np\n",
    "import skimage.measure as measure # for 2d max pooling (pip install scikit-image)\n",
    "import random\n",
    "import os\n",
    "\n",
    "from objects import Person, Wall, Train\n",
    "from simulator import CovidSim\n",
    "from pathfinding import Node, Queue, Pathfinder"
   ]
  },
  {
   "cell_type": "code",
   "execution_count": 4,
   "metadata": {},
   "outputs": [
    {
     "name": "stdout",
     "output_type": "stream",
     "text": [
      "world_array shape: (800, 800)\n",
      "using precomputed heatmaps with shape (3, 800, 800)\n"
     ]
    }
   ],
   "source": [
    "# build the simulator\n",
    "sim = CovidSim(n_people=500, \n",
    "               infection_prob=0.3, \n",
    "               draw_dots_for_debugging=True,\n",
    "               FPS=60)\n",
    "\n",
    "# TODO: put list of real target nodes into pf by design\n",
    "pf = Pathfinder(sim, use_precomputed_heatmaps=True)\n",
    "\n",
    "random_seed = 42 # use a seed for reproducable results\n",
    "sim.run(random_seed)"
   ]
  },
  {
   "cell_type": "code",
   "execution_count": null,
   "metadata": {},
   "outputs": [],
   "source": []
  }
 ],
 "metadata": {
  "kernelspec": {
   "display_name": "Python 3.9.12 ('base')",
   "language": "python",
   "name": "python3"
  },
  "language_info": {
   "codemirror_mode": {
    "name": "ipython",
    "version": 3
   },
   "file_extension": ".py",
   "mimetype": "text/x-python",
   "name": "python",
   "nbconvert_exporter": "python",
   "pygments_lexer": "ipython3",
   "version": "3.9.12"
  },
  "orig_nbformat": 4,
  "vscode": {
   "interpreter": {
    "hash": "26f0d9251210d1296cca221dac5c0a6966a33ae026dc2b31e5da38a20392326b"
   }
  }
 },
 "nbformat": 4,
 "nbformat_minor": 2
}
