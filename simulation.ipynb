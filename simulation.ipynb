{
 "cells": [
  {
   "cell_type": "code",
   "execution_count": 3,
   "id": "e1af50eb",
   "metadata": {},
   "outputs": [
    {
     "name": "stdout",
     "output_type": "stream",
     "text": [
      "pygame 2.1.0 (SDL 2.0.16, Python 3.10.4)\n",
      "Hello from the pygame community. https://www.pygame.org/contribute.html\n"
     ]
    }
   ],
   "source": [
    "import pygame as pg\n",
    "import pymunk\n",
    "import numpy as np\n",
    "import random\n",
    "\n",
    "random.seed(0)"
   ]
  },
  {
   "cell_type": "code",
   "execution_count": 96,
   "id": "70f8f60e",
   "metadata": {},
   "outputs": [],
   "source": [
    "# docs\n",
    "# pygame for visualization: https://www.pygame.org/docs/\n",
    "# pymunk as physics engine: https://www.pymunk.org/en/latest/overview.html\n",
    "\n",
    "# references\n",
    "# simulator with pymunk: https://www.youtube.com/watch?v=yJK5J8a7NFs (used this one a lot)\n",
    "# pygame city builder: https://www.youtube.com/watch?v=wI_pvfwcPgQ\n",
    "# james allen - agent based modelling: https://www.youtube.com/watch?v=RglNX4c_dfc"
   ]
  },
  {
   "cell_type": "code",
   "execution_count": 17,
   "id": "f958f0fc",
   "metadata": {},
   "outputs": [],
   "source": [
    "# report\n",
    "\n",
    "# explain our particles (persons): \n",
    "#    - shape (with attributes)\n",
    "#    - velocity\n",
    "#    - collision_radius"
   ]
  },
  {
   "cell_type": "code",
   "execution_count": 4,
   "id": "08feeee5",
   "metadata": {},
   "outputs": [],
   "source": [
    "# constants\n",
    "WHITE = (255, 255, 255)\n",
    "BLACK = (0, 0, 0)\n",
    "LIGHT_GREY = (70, 84, 105)\n",
    "\n",
    "FPS = 60"
   ]
  },
  {
   "cell_type": "code",
   "execution_count": 10,
   "id": "486a9c8a",
   "metadata": {},
   "outputs": [
    {
     "data": {
      "text/plain": [
       "array([4.67055536e-310, 0.00000000e+000, 0.00000000e+000, 0.00000000e+000,\n",
       "       0.00000000e+000, 0.00000000e+000, 0.00000000e+000, 0.00000000e+000,\n",
       "       0.00000000e+000, 0.00000000e+000])"
      ]
     },
     "execution_count": 10,
     "metadata": {},
     "output_type": "execute_result"
    }
   ],
   "source": [
    "# Playground\n",
    "a = np.ndarray((10,10))\n",
    "a[0]"
   ]
  },
  {
   "cell_type": "code",
   "execution_count": null,
   "id": "be47c5fb",
   "metadata": {},
   "outputs": [],
   "source": []
  },
  {
   "cell_type": "code",
   "execution_count": null,
   "id": "7c902f2f",
   "metadata": {},
   "outputs": [],
   "source": [
    "class Person():\n",
    "    \n",
    "    def __init__(self, world, x_init, y_init, collision_radius=10):\n",
    "        \n",
    "        # setup person as a pymunk circle particle\n",
    "        self.x = x_init\n",
    "        self.y = y_init\n",
    "        self.collision_radius = collision_radius\n",
    "        self.body = pymunk.Body()\n",
    "        self.body.position = x_init, y_init\n",
    "        \n",
    "        # initial velocity\n",
    "        self.body.velocity = random.uniform(-100, 100), random.uniform(-100, 100)\n",
    "        # self.body.velocity = 50, 50\n",
    "        # self.body.velocity = self.x/10, self.y/10\n",
    "        \n",
    "        self.shape = pymunk.Circle(self.body, self.collision_radius)\n",
    "        self.shape.density = 1\n",
    "        self.shape.elasticity = 1\n",
    "        \n",
    "        # setup attributes\n",
    "        # job\n",
    "        # age\n",
    "        # vaccinated\n",
    "        # planned_path\n",
    "        # etc.\n",
    "        \n",
    "        # add the person to the world\n",
    "        world.add(self.body, self.shape)\n",
    "    \n",
    "    def update_velocity(self):\n",
    "        # make dependent on current velocity (self.body.velocity) and planned path\n",
    "        pass\n",
    "    \n",
    "    def draw(self, screen):\n",
    "        x, y = self.body.position\n",
    "        discrete_position = (int(x), int(y))\n",
    "        pg.draw.circle(screen, BLACK, discrete_position, self.collision_radius)"
   ]
  },
  {
   "cell_type": "code",
   "execution_count": 19,
   "id": "97d35d87",
   "metadata": {},
   "outputs": [],
   "source": [
    "class Wall():\n",
    "    def __init__(self, world, start_pos, end_pos, thickness=3):\n",
    "        self.start_pos = start_pos\n",
    "        self.end_pos = end_pos\n",
    "        self.thickness = thickness\n",
    "        self.body = pymunk.Body(body_type=pymunk.Body.STATIC) # static body\n",
    "        self.shape = pymunk.Segment(self.body, start_pos, end_pos, radius=thickness) # people might glitch through if not big enough\n",
    "        self.shape.elasticity = 1\n",
    "        world.add(self.body, self.shape)\n",
    "    \n",
    "    def draw(self, screen):\n",
    "        pg.draw.line(screen, LIGHT_GREY, self.start_pos, self.end_pos, self.thickness)"
   ]
  },
  {
   "cell_type": "code",
   "execution_count": null,
   "id": "8a31247a",
   "metadata": {},
   "outputs": [],
   "source": []
  },
  {
   "cell_type": "code",
   "execution_count": 20,
   "id": "3edefc9c",
   "metadata": {},
   "outputs": [],
   "source": [
    "class VirusSim():\n",
    "    \n",
    "    def __init__(self, n_people, screen_size, world_size):\n",
    "        # game setup\n",
    "        self.screen = pg.display.set_mode((screen_size, screen_size))\n",
    "        self.width, self.height = self.screen.get_size()\n",
    "        self.clock = pg.time.Clock()\n",
    "        self.running = True\n",
    "        \n",
    "        # logo and caption\n",
    "        logo = pg.image.load('images/virus_logo.png')\n",
    "        pg.display.set_icon(logo)\n",
    "        pg.display.set_caption('Virus Sim')\n",
    "        \n",
    "        # setup world (one tile is a 10px by 10px square)\n",
    "        self.world = pymunk.Space()\n",
    "        self.world_size = world_size\n",
    "        \n",
    "        # add screen borders as walls\n",
    "        self.borders = [\n",
    "            Wall(world=self.world, start_pos=(0, 0), end_pos=(800, 0)),\n",
    "            Wall(world=self.world, start_pos=(0, 0), end_pos=(0, 800)),\n",
    "            Wall(world=self.world, start_pos=(0, 800), end_pos=(800, 800)),\n",
    "            Wall(world=self.world, start_pos=(800, 0), end_pos=(800, 800))]\n",
    "        \n",
    "        # add more walls\n",
    "        house1, bg1 = self._create_tile(origin_pos=(0,0), tile_type='house')\n",
    "        house2, bg2 = self._create_tile(origin_pos=(80,0), tile_type='house')\n",
    "        house3, bg3 = self._create_tile(origin_pos=(160,0), tile_type='house')\n",
    "        house4, bg4 = self._create_tile(origin_pos=(240,80), tile_type='house')\n",
    "        \n",
    "        # add all tiles to a list\n",
    "        self.tiles = [house1, house2, house3, house4]\n",
    "        self.backgrounds = [bg1, bg2, bg3, bg4]\n",
    "        \n",
    "        # create people\n",
    "        self.n_people = n_people\n",
    "        self.people = [Person(world=self.world,\n",
    "                              x_init=random.randint(0, screen_size),\n",
    "                              y_init=random.randint(0, screen_size),\n",
    "                              collision_radius=2)\n",
    "                       for i in range(self.n_people)]\n",
    "        \n",
    "        # setup np-arrays for data\n",
    "        \n",
    "    def _create_tile(self, origin_pos, tile_type):\n",
    "        if tile_type == 'house':\n",
    "            x, y = origin_pos\n",
    "            tile_walls = [\n",
    "                # create main walls\n",
    "                Wall(world=self.world, start_pos=(x, y), end_pos=(x+80, y)),\n",
    "                Wall(world=self.world, start_pos=(x, y), end_pos=(x, y+80)),\n",
    "                Wall(world=self.world, start_pos=(x+80, y), end_pos=(x+80, y+80)),\n",
    "                \n",
    "                # create half-open wall\n",
    "                Wall(world=self.world, start_pos=(x, y+80), end_pos=(x+20, y+80)),\n",
    "                Wall(world=self.world, start_pos=(x+60, y+80), end_pos=(x+80, y+80))]\n",
    "            \n",
    "            # create background images\n",
    "            tile_bg_img = pg.image.load('images/house2d.png')\n",
    "            tile_bg_img.set_alpha(130)\n",
    "            tile_bg_img = pg.transform.scale(tile_bg_img, (80, 80))\n",
    "        \n",
    "        background = tile_bg_img, origin_pos\n",
    "        return tile_walls, background\n",
    "    \n",
    "    def run(self):\n",
    "        while self.running:\n",
    "            \n",
    "            self.clock.tick(FPS) # fps\n",
    "            self.world.step(1/FPS)\n",
    "            \n",
    "            self.events()            \n",
    "            self.update()\n",
    "            if self.running: # and self.render (if rendering is too slow)\n",
    "                self.draw()\n",
    "                            \n",
    "            # save logs\n",
    "            # evaluate later\n",
    "    \n",
    "    def events(self):\n",
    "        for event in pg.event.get():\n",
    "            \n",
    "            if event.type == pg.QUIT:\n",
    "                pg.quit()\n",
    "                self.running = False\n",
    "                \n",
    "            if event.type == pg.KEYDOWN:\n",
    "                if event.key == pg.K_ESCAPE:\n",
    "                    pg.quit()\n",
    "                    self.running = False\n",
    "    \n",
    "    def update(self):\n",
    "        pass\n",
    "    \n",
    "    def draw(self):\n",
    "        # fill the background color\n",
    "        self.screen.fill(WHITE)\n",
    "        \n",
    "        # draw background images\n",
    "        for bg_img, origin_pos in self.backgrounds:\n",
    "            self.screen.blit(bg_img, origin_pos)\n",
    "        \n",
    "        # draw people\n",
    "        for person in self.people:\n",
    "            person.draw(self.screen)\n",
    "        \n",
    "        # draw borders\n",
    "        for border in self.borders:\n",
    "            border.draw(self.screen)\n",
    "        \n",
    "        # draw tiles\n",
    "        for tile in self.tiles:\n",
    "            for wall in tile:\n",
    "                wall.draw(self.screen)\n",
    "        \n",
    "        pg.display.flip() # update entire screen"
   ]
  },
  {
   "cell_type": "code",
   "execution_count": 21,
   "id": "51f4555e",
   "metadata": {},
   "outputs": [],
   "source": [
    "pg.init()\n",
    "sim = VirusSim(n_people=1000, screen_size=800, world_size=80)\n",
    "sim.run()"
   ]
  },
  {
   "cell_type": "code",
   "execution_count": null,
   "id": "db8de4bf",
   "metadata": {},
   "outputs": [],
   "source": []
  },
  {
   "cell_type": "code",
   "execution_count": null,
   "id": "3404efac",
   "metadata": {},
   "outputs": [],
   "source": []
  },
  {
   "cell_type": "code",
   "execution_count": null,
   "id": "32a1a5a0",
   "metadata": {},
   "outputs": [],
   "source": []
  },
  {
   "cell_type": "code",
   "execution_count": null,
   "id": "ed130793",
   "metadata": {},
   "outputs": [],
   "source": []
  },
  {
   "cell_type": "code",
   "execution_count": null,
   "id": "9a12c097",
   "metadata": {},
   "outputs": [],
   "source": []
  },
  {
   "cell_type": "code",
   "execution_count": null,
   "id": "29a72569",
   "metadata": {},
   "outputs": [],
   "source": []
  },
  {
   "cell_type": "code",
   "execution_count": null,
   "id": "a19916ad",
   "metadata": {},
   "outputs": [],
   "source": []
  },
  {
   "cell_type": "code",
   "execution_count": null,
   "id": "621f90f0",
   "metadata": {},
   "outputs": [],
   "source": []
  },
  {
   "cell_type": "code",
   "execution_count": null,
   "id": "9896cd24",
   "metadata": {},
   "outputs": [],
   "source": []
  },
  {
   "cell_type": "code",
   "execution_count": null,
   "id": "116f767a",
   "metadata": {},
   "outputs": [],
   "source": []
  }
 ],
 "metadata": {
  "kernelspec": {
   "display_name": "Python 3 (ipykernel)",
   "language": "python",
   "name": "python3"
  },
  "language_info": {
   "codemirror_mode": {
    "name": "ipython",
    "version": 3
   },
   "file_extension": ".py",
   "mimetype": "text/x-python",
   "name": "python",
   "nbconvert_exporter": "python",
   "pygments_lexer": "ipython3",
   "version": "3.10.4"
  }
 },
 "nbformat": 4,
 "nbformat_minor": 5
}
